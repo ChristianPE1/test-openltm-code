{
 "cells": [
  {
   "cell_type": "markdown",
   "id": "fafb4827",
   "metadata": {},
   "source": [
    "# 🌧️ Timer-XL Peru Rainfall Prediction - Google Colab\n",
    "\n",
    "This notebook demonstrates the complete pipeline for training Timer-XL on Peru rainfall data.\n",
    "\n",
    "**Steps:**\n",
    "1. Setup environment\n",
    "2. Upload ERA5 data\n",
    "3. Preprocess data\n",
    "4. Train Timer-XL with transfer learning\n",
    "5. Evaluate results"
   ]
  },
  {
   "cell_type": "markdown",
   "id": "dbb58468",
   "metadata": {},
   "source": [
    "## 1. Setup Environment"
   ]
  },
  {
   "cell_type": "code",
   "execution_count": null,
   "id": "6436bdc8",
   "metadata": {},
   "outputs": [],
   "source": [
    "# Check GPU\n",
    "!nvidia-smi"
   ]
  },
  {
   "cell_type": "code",
   "execution_count": null,
   "id": "660775a9",
   "metadata": {},
   "outputs": [],
   "source": [
    "# Clone repository\n",
    "!git clone https://github.com/ChristianPE1/test-openltm-code.git\n",
    "%cd test-openltm-code"
   ]
  },
  {
   "cell_type": "code",
   "execution_count": null,
   "id": "6b831b2f",
   "metadata": {},
   "outputs": [],
   "source": [
    "# Install dependencies\n",
    "!pip install -r requirements.txt"
   ]
  },
  {
   "cell_type": "code",
   "execution_count": null,
   "id": "f92910c2",
   "metadata": {},
   "outputs": [],
   "source": [
    "# Mount Google Drive (to download checkpoint.pth and save training results)\n",
    "from google.colab import drive\n",
    "drive.mount('/content/drive')\n",
    "\n",
    "# Create directories in Drive\n",
    "!mkdir -p '/content/drive/MyDrive/timer_xl_peru/'\n",
    "!mkdir -p '/content/drive/MyDrive/timer_xl_peru/checkpoints/'\n",
    "!mkdir -p '/content/drive/MyDrive/timer_xl_peru/results/'\n",
    "\n",
    "print(\"✅ Google Drive mounted\")\n",
    "print(\"📁 Created folders:\")\n",
    "print(\"   - /content/drive/MyDrive/timer_xl_peru/checkpoints/  (for trained models)\")\n",
    "print(\"   - /content/drive/MyDrive/timer_xl_peru/results/      (for outputs)\")"
   ]
  },
  {
   "cell_type": "markdown",
   "id": "5524612e",
   "metadata": {},
   "source": [
    "## 2. Verificar Datos ERA5\n",
    "\n",
    "**Los archivos .nc ya están en el repositorio** (datasets/raw_era5/)  \n",
    "Solo necesitas verificar que se clonaron correctamente."
   ]
  },
  {
   "cell_type": "code",
   "execution_count": null,
   "id": "e662f01e",
   "metadata": {},
   "outputs": [],
   "source": [
    "# Verify ERA5 files are in the repository\n",
    "!ls -lh datasets/raw_era5/\n",
    "\n",
    "print(\"\\n✅ Expected files:\")\n",
    "print(\"   - era5_peru_2022.nc\")\n",
    "print(\"   - era5_peru_2023.nc\")\n",
    "print(\"   - era5_peru_2024.nc\")"
   ]
  },
  {
   "cell_type": "markdown",
   "id": "a9543ac7",
   "metadata": {},
   "source": [
    "## 3. Preprocess Data"
   ]
  },
  {
   "cell_type": "code",
   "execution_count": null,
   "id": "d61b5ec3",
   "metadata": {},
   "outputs": [],
   "source": [
    "# Run preprocessing script\n",
    "!python preprocessing/preprocess_era5_peru.py \\\n",
    "    --input_dir datasets/raw_era5 \\\n",
    "    --output_dir datasets/processed \\\n",
    "    --years 2022,2023,2024 \\\n",
    "    --target_horizon 24 \\\n",
    "    --threshold 0.1\n",
    "\n",
    "print(\"\\n✅ Preprocessing complete!\")\n",
    "print(\"📊 Output files saved to: datasets/processed/\")"
   ]
  },
  {
   "cell_type": "code",
   "execution_count": null,
   "id": "2bfa2e7c",
   "metadata": {},
   "outputs": [],
   "source": [
    "# Load processed data for quick inspection\n",
    "import pandas as pd\n",
    "import json\n",
    "\n",
    "df = pd.read_csv('datasets/processed/peru_rainfall.csv')\n",
    "print(f\"Dataset shape: {df.shape}\")\n",
    "print(f\"\\nFirst few rows:\")\n",
    "print(df.head())\n",
    "\n",
    "# Load statistics\n",
    "with open('datasets/processed/preprocessing_stats.json') as f:\n",
    "    stats = json.load(f)\n",
    "print(f\"\\nStatistics:\")\n",
    "print(json.dumps(stats, indent=2))"
   ]
  },
  {
   "cell_type": "markdown",
   "id": "b18d6979",
   "metadata": {},
   "source": [
    "## 4. Train Timer-XL"
   ]
  },
  {
   "cell_type": "code",
   "execution_count": null,
   "id": "8babaa67",
   "metadata": {},
   "outputs": [],
   "source": [
    "# Copy pre-trained checkpoint from Google Drive\n",
    "import os\n",
    "\n",
    "checkpoint_path = 'checkpoints/timer_xl/checkpoint.pth'\n",
    "\n",
    "if not os.path.exists(checkpoint_path):\n",
    "    print(\"📥 Copying pre-trained Timer-XL checkpoint from Google Drive...\")\n",
    "    os.makedirs('checkpoints/timer_xl', exist_ok=True)\n",
    "    \n",
    "    # Copy from Drive\n",
    "    !cp '/content/drive/MyDrive/timer_xl_peru/checkpoints/checkpoint.pth' checkpoints/timer_xl/\n",
    "    \n",
    "    if os.path.exists(checkpoint_path):\n",
    "        print(\"✅ Checkpoint copied successfully!\")\n",
    "    else:\n",
    "        print(\"❌ ERROR: Checkpoint not found in Drive\")\n",
    "        print(\"📋 Please upload checkpoint.pth to:\")\n",
    "        print(\"   /content/drive/MyDrive/timer_xl_peru/checkpoints/checkpoint.pth\")\n",
    "        print(\"\\n   Download from: https://cloud.tsinghua.edu.cn/f/01c35ca13f474176be7b/\")\n",
    "else:\n",
    "    print(f\"✅ Checkpoint already exists: {checkpoint_path}\")"
   ]
  },
  {
   "cell_type": "code",
   "execution_count": null,
   "id": "932b1a52",
   "metadata": {},
   "outputs": [],
   "source": [
    "# Train model\n",
    "# Note: Adjust batch_size if you get OOM errors\n",
    "\n",
    "!python run.py \\\n",
    "  --task_name forecast \\\n",
    "  --is_training 1 \\\n",
    "  --root_path datasets/processed/ \\\n",
    "  --data_path peru_rainfall.csv \\\n",
    "  --model_id peru_rainfall_transfer_learning \\\n",
    "  --model timer_xl_classifier \\\n",
    "  --data PeruRainfall \\\n",
    "  --seq_len 1440 \\\n",
    "  --input_token_len 96 \\\n",
    "  --output_token_len 96 \\\n",
    "  --test_seq_len 1440 \\\n",
    "  --test_pred_len 2 \\\n",
    "  --e_layers 8 \\\n",
    "  --d_model 1024 \\\n",
    "  --d_ff 2048 \\\n",
    "  --n_heads 8 \\\n",
    "  --dropout 0.1 \\\n",
    "  --activation relu \\\n",
    "  --batch_size 128 \\\n",
    "  --learning_rate 1e-5 \\\n",
    "  --train_epochs 50 \\\n",
    "  --patience 10 \\\n",
    "  --gpu 0 \\\n",
    "  --cosine \\\n",
    "  --tmax 50 \\\n",
    "  --use_norm \\\n",
    "  --adaptation \\\n",
    "  --pretrain_model_path checkpoints/timer_xl/checkpoint.pth \\\n",
    "  --loss CE \\\n",
    "  --checkpoints results/peru_rainfall/ \\\n",
    "  --use_focal_loss \\\n",
    "  --itr 1"
   ]
  },
  {
   "cell_type": "markdown",
   "id": "aae69d19",
   "metadata": {},
   "source": [
    "## 5. Save Checkpoint to Drive\n",
    "\n",
    "Prevent losing your trained model!"
   ]
  },
  {
   "cell_type": "code",
   "execution_count": null,
   "id": "63515cf5",
   "metadata": {},
   "outputs": [],
   "source": [
    "# Copy best checkpoint to Google Drive (prevent losing trained model!)\n",
    "import shutil\n",
    "import os\n",
    "\n",
    "# Find the latest checkpoint\n",
    "results_path = 'results/peru_rainfall/peru_rainfall_transfer_learning/'\n",
    "\n",
    "if os.path.exists(results_path):\n",
    "    # Copy entire results folder to Drive\n",
    "    drive_results = '/content/drive/MyDrive/timer_xl_peru/results/peru_rainfall_transfer_learning/'\n",
    "    os.makedirs(drive_results, exist_ok=True)\n",
    "    \n",
    "    print(\"💾 Copying results to Google Drive...\")\n",
    "    !cp -r {results_path}* {drive_results}\n",
    "    \n",
    "    print(\"✅ Checkpoint and results saved to Google Drive!\")\n",
    "    print(f\"📁 Location: {drive_results}\")\n",
    "else:\n",
    "    print(\"⚠️ No results found yet. Training may still be in progress.\")"
   ]
  },
  {
   "cell_type": "markdown",
   "id": "a370af7c",
   "metadata": {},
   "source": [
    "## 6. Quick Evaluation"
   ]
  },
  {
   "cell_type": "code",
   "execution_count": null,
   "id": "4381898f",
   "metadata": {},
   "outputs": [],
   "source": [
    "# Load test results (if available)\n",
    "import os\n",
    "import json\n",
    "\n",
    "results_dir = 'results/peru_rainfall/peru_rainfall_transfer_learning/'\n",
    "\n",
    "# Find metrics file\n",
    "for file in os.listdir(results_dir):\n",
    "    if file.startswith('test_metrics') and file.endswith('.json'):\n",
    "        with open(os.path.join(results_dir, file)) as f:\n",
    "            metrics = json.load(f)\n",
    "        print(\"Test Metrics:\")\n",
    "        print(json.dumps(metrics, indent=2))"
   ]
  },
  {
   "cell_type": "markdown",
   "id": "268598ae",
   "metadata": {},
   "source": [
    "## 🎉 Training Complete!\n",
    "\n",
    "**Next steps:**\n",
    "1. Download results from `results/peru_rainfall/`\n",
    "2. Analyze confusion matrix and classification report\n",
    "3. Try different context lengths (seq_len)\n",
    "4. Experiment with different hyperparameters"
   ]
  }
 ],
 "metadata": {
  "language_info": {
   "name": "python"
  }
 },
 "nbformat": 4,
 "nbformat_minor": 5
}
